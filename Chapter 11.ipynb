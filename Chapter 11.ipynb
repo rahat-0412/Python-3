{
 "cells": [
  {
   "cell_type": "markdown",
   "id": "271dff29",
   "metadata": {},
   "source": [
    "# OOPS"
   ]
  },
  {
   "cell_type": "code",
   "execution_count": 2,
   "id": "13a39daf",
   "metadata": {},
   "outputs": [
    {
     "data": {
      "text/plain": [
       "['__add__',\n",
       " '__class__',\n",
       " '__contains__',\n",
       " '__delattr__',\n",
       " '__dir__',\n",
       " '__doc__',\n",
       " '__eq__',\n",
       " '__format__',\n",
       " '__ge__',\n",
       " '__getattribute__',\n",
       " '__getitem__',\n",
       " '__getnewargs__',\n",
       " '__getstate__',\n",
       " '__gt__',\n",
       " '__hash__',\n",
       " '__init__',\n",
       " '__init_subclass__',\n",
       " '__iter__',\n",
       " '__le__',\n",
       " '__len__',\n",
       " '__lt__',\n",
       " '__mod__',\n",
       " '__mul__',\n",
       " '__ne__',\n",
       " '__new__',\n",
       " '__reduce__',\n",
       " '__reduce_ex__',\n",
       " '__repr__',\n",
       " '__rmod__',\n",
       " '__rmul__',\n",
       " '__setattr__',\n",
       " '__sizeof__',\n",
       " '__str__',\n",
       " '__subclasshook__',\n",
       " 'capitalize',\n",
       " 'casefold',\n",
       " 'center',\n",
       " 'count',\n",
       " 'encode',\n",
       " 'endswith',\n",
       " 'expandtabs',\n",
       " 'find',\n",
       " 'format',\n",
       " 'format_map',\n",
       " 'index',\n",
       " 'isalnum',\n",
       " 'isalpha',\n",
       " 'isascii',\n",
       " 'isdecimal',\n",
       " 'isdigit',\n",
       " 'isidentifier',\n",
       " 'islower',\n",
       " 'isnumeric',\n",
       " 'isprintable',\n",
       " 'isspace',\n",
       " 'istitle',\n",
       " 'isupper',\n",
       " 'join',\n",
       " 'ljust',\n",
       " 'lower',\n",
       " 'lstrip',\n",
       " 'maketrans',\n",
       " 'partition',\n",
       " 'removeprefix',\n",
       " 'removesuffix',\n",
       " 'replace',\n",
       " 'rfind',\n",
       " 'rindex',\n",
       " 'rjust',\n",
       " 'rpartition',\n",
       " 'rsplit',\n",
       " 'rstrip',\n",
       " 'split',\n",
       " 'splitlines',\n",
       " 'startswith',\n",
       " 'strip',\n",
       " 'swapcase',\n",
       " 'title',\n",
       " 'translate',\n",
       " 'upper',\n",
       " 'zfill']"
      ]
     },
     "execution_count": 2,
     "metadata": {},
     "output_type": "execute_result"
    }
   ],
   "source": [
    "dir(\"\")"
   ]
  },
  {
   "cell_type": "markdown",
   "id": "1463103d",
   "metadata": {},
   "source": [
    "# Class str"
   ]
  },
  {
   "cell_type": "code",
   "execution_count": 7,
   "id": "57ae8deb",
   "metadata": {},
   "outputs": [
    {
     "ename": "IndentationError",
     "evalue": "expected an indented block after class definition on line 1 (2834603215.py, line 2)",
     "output_type": "error",
     "traceback": [
      "\u001b[1;36m  Cell \u001b[1;32mIn[7], line 2\u001b[1;36m\u001b[0m\n\u001b[1;33m    str(object'')\u001b[0m\n\u001b[1;37m    ^\u001b[0m\n\u001b[1;31mIndentationError\u001b[0m\u001b[1;31m:\u001b[0m expected an indented block after class definition on line 1\n"
     ]
    }
   ],
   "source": [
    "class str(object):\n",
    "str(object'')\n",
    "str(bytes_or_buffer[,encoding[,errors]])\n",
    "    __add__(self,value,/)\n",
    "    Return self+value.\n",
    "    __contains__(self,key,/)\n",
    "    Return key in self.\n",
    "    __eq__(self,value,/)\n",
    "    Return self==value\n",
    "    capitalize(self,/)\n",
    "    casefold(self,/)\n",
    "    center(self,width,fillchar='',/)\n",
    "    count(...)\n",
    "    S.count(sub[,start[,end]])\n",
    "    encode(self,/,encoding='utf-8' , errors='strict')"
   ]
  },
  {
   "cell_type": "code",
   "execution_count": 12,
   "id": "2c6e89e5",
   "metadata": {},
   "outputs": [
    {
     "name": "stdout",
     "output_type": "stream",
     "text": [
      "Hello, world!\n",
      "hello, world!\n",
      "   Hello, World!    \n",
      "3\n",
      "b'Hello, World!'\n"
     ]
    }
   ],
   "source": [
    "class MyStr(str):\n",
    "    def __new__(cls, *args, **kwargs):\n",
    "        instance = super(MyStr, cls).__new__(cls, *args, **kwargs)\n",
    "        return instance\n",
    "\n",
    "    def capitalize(self):\n",
    "        return MyStr(super().capitalize())\n",
    "\n",
    "    def casefold(self):\n",
    "        return MyStr(super().casefold())\n",
    "\n",
    "    def center(self, width, fillchar=' '):\n",
    "        return MyStr(super().center(width, fillchar))\n",
    "\n",
    "    def count(self, sub, start=None, end=None):\n",
    "        return super().count(sub, start, end)\n",
    "\n",
    "    def encode(self, encoding='utf-8', errors='strict'):\n",
    "        return MyStr(super().encode(encoding, errors))\n",
    "\n",
    "# Usage example:\n",
    "my_str = MyStr(\"Hello, World!\")\n",
    "print(my_str.capitalize())  # Capitalize the string\n",
    "print(my_str.casefold())    # Casefold the string\n",
    "print(my_str.center(20))    # Center the string\n",
    "print(my_str.count('l'))    # Count occurrences of 'l'\n",
    "print(my_str.encode())       # Encode the string\n"
   ]
  },
  {
   "cell_type": "markdown",
   "id": "2ce2844b",
   "metadata": {},
   "source": [
    "# Creating New Classes"
   ]
  },
  {
   "cell_type": "code",
   "execution_count": 15,
   "id": "95d34c34",
   "metadata": {},
   "outputs": [
    {
     "name": "stdout",
     "output_type": "stream",
     "text": [
      "red\n",
      "sweet\n"
     ]
    }
   ],
   "source": [
    "class  Apple:\n",
    "    pass\n",
    "class Apple:\n",
    "    color=\"\"\n",
    "    flavor=\"\"\n",
    "jonagold=(Apple)\n",
    "jonagold.color=\"red\"\n",
    "jonagold.flavor=\"sweet\"\n",
    "print(jonagold.color)\n",
    "print(jonagold.flavor)"
   ]
  },
  {
   "cell_type": "markdown",
   "id": "b35e515b",
   "metadata": {},
   "source": [
    "# Dot Notation"
   ]
  },
  {
   "cell_type": "code",
   "execution_count": 16,
   "id": "4f069371",
   "metadata": {},
   "outputs": [
    {
     "name": "stdout",
     "output_type": "stream",
     "text": [
      "red\n",
      "sweet\n",
      "RED\n"
     ]
    }
   ],
   "source": [
    "class  Apple:\n",
    "    pass\n",
    "class Apple:\n",
    "    color=\"\"\n",
    "    flavor=\"\"\n",
    "jonagold=(Apple)\n",
    "jonagold.color=\"red\"\n",
    "jonagold.flavor=\"sweet\"\n",
    "print(jonagold.color)\n",
    "print(jonagold.flavor)\n",
    "print(jonagold.color.upper())"
   ]
  },
  {
   "cell_type": "code",
   "execution_count": 18,
   "id": "39dbdeae",
   "metadata": {},
   "outputs": [
    {
     "name": "stdout",
     "output_type": "stream",
     "text": [
      "red\n",
      "sweet\n",
      "RED\n",
      "Yellow\n",
      "Soft\n"
     ]
    }
   ],
   "source": [
    "class  Apple:\n",
    "    pass\n",
    "class Apple:\n",
    "    color=\"\"\n",
    "    flavor=\"\"\n",
    "jonagold=(Apple)\n",
    "jonagold.color=\"red\"\n",
    "jonagold.flavor=\"sweet\"\n",
    "print(jonagold.color)\n",
    "print(jonagold.flavor)\n",
    "print(jonagold.color.upper())\n",
    "golden=Apple()\n",
    "golden.color=\"Yellow\"\n",
    "golden.flavor=\"Soft\"\n",
    "print(golden.color)\n",
    "print(golden.flavor)"
   ]
  },
  {
   "cell_type": "markdown",
   "id": "c157ba8d",
   "metadata": {},
   "source": [
    "# Fill In Blanks"
   ]
  },
  {
   "cell_type": "code",
   "execution_count": 28,
   "id": "7b3a04b7",
   "metadata": {},
   "outputs": [
    {
     "name": "stdout",
     "output_type": "stream",
     "text": [
      "Roses are red\n",
      "Voilets are blue\n",
      "Sugar is sweet and, so are you\n"
     ]
    }
   ],
   "source": [
    "class Flower:\n",
    "    color='nknown'\n",
    "rose = Flower()\n",
    "rose.color=\"red\"\n",
    "voilet=Flower()\n",
    "voilet.color=\"blue\"\n",
    "this_pun_is_for_you = \"Sugar is sweet and, so are you\"\n",
    "print(\"Roses are {}\".format(rose.color)) \n",
    "print(\"Voilets are {}\".format(voilet.color))\n",
    "print(this_pun_is_for_you)"
   ]
  },
  {
   "cell_type": "markdown",
   "id": "7602f0f4",
   "metadata": {},
   "source": [
    "# Methods"
   ]
  },
  {
   "cell_type": "code",
   "execution_count": 36,
   "id": "45a9c2ce",
   "metadata": {},
   "outputs": [
    {
     "name": "stdout",
     "output_type": "stream",
     "text": [
      "Meow! I am Luna,Meow!\n",
      "Meow! I am Bella,Meow!\n"
     ]
    }
   ],
   "source": [
    "class cat:\n",
    "    name = \"\"\n",
    "    def speak(self):\n",
    "        print(\"Meow! I am {},Meow!\".format(self.name))    \n",
    "myluna = cat()\n",
    "myluna.name=\"Luna\"\n",
    "myluna.speak()\n",
    "myBella=cat()\n",
    "myBella.name=\"Bella\"\n",
    "myBella.speak()"
   ]
  },
  {
   "cell_type": "code",
   "execution_count": 37,
   "id": "eb5bf38f",
   "metadata": {},
   "outputs": [
    {
     "data": {
      "text/plain": [
       "0"
      ]
     },
     "execution_count": 37,
     "metadata": {},
     "output_type": "execute_result"
    }
   ],
   "source": [
    "class cat:\n",
    "    years=0\n",
    "    def age(self):\n",
    "        return self.years*12  \n",
    "myluna = cat()\n",
    "myluna.age()"
   ]
  },
  {
   "cell_type": "code",
   "execution_count": 38,
   "id": "066b1cf7",
   "metadata": {},
   "outputs": [
    {
     "data": {
      "text/plain": [
       "24"
      ]
     },
     "execution_count": 38,
     "metadata": {},
     "output_type": "execute_result"
    }
   ],
   "source": [
    "class cat:\n",
    "    years=0\n",
    "    def age(self):\n",
    "        return self.years*12  \n",
    "myluna = cat()\n",
    "myluna.years=2\n",
    "myluna.age()"
   ]
  },
  {
   "cell_type": "code",
   "execution_count": 39,
   "id": "e4b36ebd",
   "metadata": {},
   "outputs": [
    {
     "name": "stdout",
     "output_type": "stream",
     "text": [
      "Jonagold Apple Color: Red\n",
      "Jonagold Apple Flavor: Sweet\n"
     ]
    }
   ],
   "source": [
    "class Apple:\n",
    "    def __init__(self, color, flavor):\n",
    "        self.color = color\n",
    "        self.flavor = flavor\n",
    "jonagold = Apple(\"Red\", \"Sweet\")\n",
    "print(\"Jonagold Apple Color:\", jonagold.color)\n",
    "print(\"Jonagold Apple Flavor:\", jonagold.flavor)\n"
   ]
  },
  {
   "cell_type": "markdown",
   "id": "6393de25",
   "metadata": {},
   "source": [
    "# Docstring"
   ]
  },
  {
   "cell_type": "code",
   "execution_count": 49,
   "id": "be39cb77",
   "metadata": {},
   "outputs": [
    {
     "name": "stdout",
     "output_type": "stream",
     "text": [
      "This apple is Red and its flavor is Sweet\n"
     ]
    }
   ],
   "source": [
    "class Apple:\n",
    "    def __init__(self, color, flavor):\n",
    "        self.color = color\n",
    "        self.flavor = flavor\n",
    "\n",
    "    def __str__(self):\n",
    "        return \"This apple is {} and its flavor is {}\".format(self.color, self.flavor)\n",
    "\n",
    "# Example usage:\n",
    "my_apple = Apple(\"Red\", \"Sweet\")\n",
    "print(my_apple)\n"
   ]
  },
  {
   "cell_type": "markdown",
   "id": "2fcec077",
   "metadata": {},
   "source": [
    "# Documenting Class,Methods,Functions"
   ]
  },
  {
   "cell_type": "code",
   "execution_count": 50,
   "id": "74394f80",
   "metadata": {},
   "outputs": [],
   "source": [
    "class ClassName:\n",
    "    def method_name(self, other_parameters):\n",
    "        pass  "
   ]
  },
  {
   "cell_type": "code",
   "execution_count": 51,
   "id": "6e0dc8dc",
   "metadata": {},
   "outputs": [],
   "source": [
    "class ClassName:\n",
    "    \"\"\"Documentation for the class.\"\"\"\n",
    "    def method_name(self, other_parameters):\n",
    "        \"\"\"Documentation for the method.\"\"\"\n",
    "        pass\n",
    "\n",
    "def function_name(parameters):\n",
    "    \"\"\"Documentation for the function.\"\"\"\n",
    "    pass\n"
   ]
  },
  {
   "cell_type": "markdown",
   "id": "7ad6737a",
   "metadata": {},
   "source": [
    "# Object Inheritance"
   ]
  },
  {
   "cell_type": "code",
   "execution_count": 52,
   "id": "c44a128d",
   "metadata": {},
   "outputs": [
    {
     "name": "stdout",
     "output_type": "stream",
     "text": [
      "tart\n",
      "purple\n"
     ]
    }
   ],
   "source": [
    "class Fruit:\n",
    "    def __init__(self, color, flavor):\n",
    "        self.color = color\n",
    "        self.flavor = flavor\n",
    "\n",
    "class Apple(Fruit):\n",
    "    pass\n",
    "\n",
    "class Grape(Fruit):\n",
    "    pass\n",
    "\n",
    "granny_smith = Apple(\"green\", \"tart\")\n",
    "carnelian = Grape(\"purple\", \"sweet\")\n",
    "\n",
    "print(granny_smith.flavor) \n",
    "print(carnelian.color)     \n"
   ]
  },
  {
   "cell_type": "code",
   "execution_count": 55,
   "id": "5809ee45",
   "metadata": {},
   "outputs": [
    {
     "name": "stdout",
     "output_type": "stream",
     "text": [
      "Meow! I'm Luna! Meow!\n",
      "Moooo I'm Milky! Moooo\n"
     ]
    }
   ],
   "source": [
    "class Animal:\n",
    "    sound = \"\"\n",
    "\n",
    "    def __init__(self, name):\n",
    "        self.name = name\n",
    "\n",
    "    def speak(self):\n",
    "        print(\"{sound} I'm {name}! {sound}\".format(name=self.name, sound=self.sound))\n",
    "\n",
    "class Cat(Animal):\n",
    "    sound = \"Meow!\"\n",
    "\n",
    "myLuna = Cat(\"Luna\")\n",
    "myLuna.speak()\n",
    "\n",
    "class Cow(Animal):\n",
    "    sound = \"Moooo\"\n",
    "\n",
    "myCow = Cow(\"Milky\")\n",
    "myCow.speak()\n",
    "\n"
   ]
  },
  {
   "cell_type": "markdown",
   "id": "aecba1c4",
   "metadata": {},
   "source": [
    "# Fill In Blanks"
   ]
  },
  {
   "cell_type": "code",
   "execution_count": 56,
   "id": "1fd3568d",
   "metadata": {},
   "outputs": [
    {
     "name": "stdout",
     "output_type": "stream",
     "text": [
      "This polo is made of Cotton\n"
     ]
    }
   ],
   "source": [
    "class Clothing:\n",
    "    material = \"\"\n",
    "\n",
    "    def __init__(self, name):\n",
    "        self.name = name\n",
    "\n",
    "    def checkmaterial(self):\n",
    "        print(\"This {} is made of {}\".format(self.name, self.material))\n",
    "\n",
    "class Shirt(Clothing):\n",
    "    material = \"Cotton\"\n",
    "\n",
    "polo = Shirt(\"polo\")\n",
    "polo.checkmaterial()\n"
   ]
  },
  {
   "cell_type": "markdown",
   "id": "694e78ee",
   "metadata": {},
   "source": [
    "# Repository Object Composition"
   ]
  },
  {
   "cell_type": "code",
   "execution_count": 58,
   "id": "2cb3fcc7",
   "metadata": {},
   "outputs": [],
   "source": [
    "class Repository:\n",
    "    def __init__(self):\n",
    "        self.packages = {}\n",
    "\n",
    "    def add_package(self, package):\n",
    "        self.packages[package.name] = package\n",
    "\n",
    "    def total_size(self):\n",
    "        result = 0\n",
    "        for package in self.packages.values():\n",
    "            result += package.size\n",
    "        return result\n"
   ]
  },
  {
   "cell_type": "markdown",
   "id": "1a133295",
   "metadata": {},
   "source": [
    "# Modules"
   ]
  },
  {
   "cell_type": "code",
   "execution_count": 59,
   "id": "dd58ca3f",
   "metadata": {},
   "outputs": [
    {
     "data": {
      "text/plain": [
       "1"
      ]
     },
     "execution_count": 59,
     "metadata": {},
     "output_type": "execute_result"
    }
   ],
   "source": [
    "import random\n",
    "random.randint(1,10)\n",
    "8\n",
    "random.randint(1,10)\n",
    "7\n",
    "random.randint(1,10)\n",
    "1"
   ]
  },
  {
   "cell_type": "code",
   "execution_count": 62,
   "id": "644c38b0",
   "metadata": {},
   "outputs": [
    {
     "name": "stdout",
     "output_type": "stream",
     "text": [
      "<class 'datetime.datetime'>\n",
      "2023-09-26 22:37:32.529225\n"
     ]
    }
   ],
   "source": [
    "import datetime\n",
    "\n",
    "now = datetime.datetime.now()\n",
    "print(type(now))\n",
    "print(now)\n"
   ]
  },
  {
   "cell_type": "code",
   "execution_count": 67,
   "id": "ef6ccd53",
   "metadata": {},
   "outputs": [
    {
     "name": "stdout",
     "output_type": "stream",
     "text": [
      "2023-09-26 22:39:44.098781\n",
      "2023-10-24 22:39:44.098781\n"
     ]
    }
   ],
   "source": [
    "import datetime\n",
    "now = datetime.datetime.now()\n",
    "print(now)\n",
    "now.year\n",
    "print(now + datetime.timedelta(days=28))\n"
   ]
  }
 ],
 "metadata": {
  "kernelspec": {
   "display_name": "Python 3 (ipykernel)",
   "language": "python",
   "name": "python3"
  },
  "language_info": {
   "codemirror_mode": {
    "name": "ipython",
    "version": 3
   },
   "file_extension": ".py",
   "mimetype": "text/x-python",
   "name": "python",
   "nbconvert_exporter": "python",
   "pygments_lexer": "ipython3",
   "version": "3.11.4"
  }
 },
 "nbformat": 4,
 "nbformat_minor": 5
}
